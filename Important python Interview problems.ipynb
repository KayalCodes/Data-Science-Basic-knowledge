{
 "cells": [
  {
   "cell_type": "markdown",
   "id": "e0a4b438-85b2-45c8-9f86-6cae70fffdd5",
   "metadata": {},
   "source": [
    "### Anagaram Program"
   ]
  },
  {
   "cell_type": "code",
   "execution_count": 29,
   "id": "397619fd-1c47-49f9-a8b8-61ccd7b927ed",
   "metadata": {},
   "outputs": [
    {
     "name": "stdout",
     "output_type": "stream",
     "text": [
      "False\n"
     ]
    }
   ],
   "source": [
    "st1 = \"cinema\"\n",
    "st2 = \"icemann\"\n",
    "\n",
    "from collections import Counter\n",
    "st1dict = dict(Counter(st1))\n",
    "st2dict = dict(Counter(st2))\n",
    "\n",
    "print(st1dict == st2dict)"
   ]
  },
  {
   "cell_type": "markdown",
   "id": "01eb9822-05c8-4f56-9758-0239d259a762",
   "metadata": {},
   "source": [
    "### Largest Repeating Substring"
   ]
  },
  {
   "cell_type": "code",
   "execution_count": 35,
   "id": "f4b1d2b6-3142-4ac8-989d-b356742eecb5",
   "metadata": {},
   "outputs": [
    {
     "name": "stdout",
     "output_type": "stream",
     "text": [
      "ab\n"
     ]
    }
   ],
   "source": [
    "st = \"abdabcfhg\"\n",
    "n = len(st)\n",
    "largest = ''\n",
    "for i in range(n):\n",
    "    for j in range(i+1, n):\n",
    "        sub = st[i:j]\n",
    "        if st.count(sub) > 1 and len(sub)> len(largest):\n",
    "            largest = sub\n",
    "\n",
    "print(largest)"
   ]
  },
  {
   "cell_type": "markdown",
   "id": "80668400-da49-4641-a92f-794c74c1d13a",
   "metadata": {},
   "source": [
    "### Sort in ascending order"
   ]
  },
  {
   "cell_type": "code",
   "execution_count": 36,
   "id": "78d39677-29e7-47dc-8b89-b8878601d0eb",
   "metadata": {},
   "outputs": [
    {
     "data": {
      "text/plain": [
       "[0, 1, 3, 10, 12, 34, 89, 90]"
      ]
     },
     "execution_count": 36,
     "metadata": {},
     "output_type": "execute_result"
    }
   ],
   "source": [
    "s = [90,3,12,89,34,1,10,0]\n",
    "l = len(s)\n",
    "for i in range(l):\n",
    "    for j in range(0,l-i-1):\n",
    "        if s[j] > s[j+1]:\n",
    "            s[j], s[j+1] = s[j+1], s[j]\n",
    "\n",
    "s"
   ]
  },
  {
   "cell_type": "markdown",
   "id": "9ae23134-1d5d-4ede-b39b-fa765108828f",
   "metadata": {},
   "source": [
    "### Sort in descending order"
   ]
  },
  {
   "cell_type": "code",
   "execution_count": 37,
   "id": "d768fbdf-35ba-4a6f-a3ab-77b37724a07a",
   "metadata": {},
   "outputs": [
    {
     "data": {
      "text/plain": [
       "[90, 89, 34, 12, 10, 3, 1, 0]"
      ]
     },
     "execution_count": 37,
     "metadata": {},
     "output_type": "execute_result"
    }
   ],
   "source": [
    "s = [90,3,12,89,34,1,10,0]\n",
    "l = len(s)\n",
    "for i in range(l):\n",
    "    for j in range(0,l-i-1):\n",
    "        if s[j] < s[j+1]:\n",
    "            s[j], s[j+1] = s[j+1], s[j]\n",
    "\n",
    "s"
   ]
  },
  {
   "cell_type": "markdown",
   "id": "9ab28e5f-61e3-4e1c-9846-2db6d89263b5",
   "metadata": {},
   "source": [
    "### Get Nth largest number"
   ]
  },
  {
   "cell_type": "code",
   "execution_count": 49,
   "id": "a4f316bd-6167-4624-a51a-ed7dd5361b64",
   "metadata": {},
   "outputs": [
    {
     "name": "stdout",
     "output_type": "stream",
     "text": [
      "[90, 89, 34, 12, 10, 3, 1, 0] 0\n"
     ]
    }
   ],
   "source": [
    "s = [90,3,12,89,34,1,10,0]\n",
    "\n",
    "def nth_largest(s,n):\n",
    "    l = len(s)\n",
    "    for i in range(l):\n",
    "        for j in range(0, l-i-1):\n",
    "            if s[j] < s[j+1]:\n",
    "                s[j], s[j+1] = s[j+1], s[j]\n",
    "\n",
    "    return s, s[n-1]\n",
    "\n",
    "lst, val = nth_largest(s,0)\n",
    "\n",
    "print(lst, val)"
   ]
  },
  {
   "cell_type": "markdown",
   "id": "80b425f4-d16b-4324-a8a0-a1444a0de8bb",
   "metadata": {},
   "source": [
    "### Get the repeated (more than once) elements"
   ]
  },
  {
   "cell_type": "code",
   "execution_count": 52,
   "id": "3823a1b0-5fd0-4e47-b71e-cee824612489",
   "metadata": {},
   "outputs": [
    {
     "name": "stdout",
     "output_type": "stream",
     "text": [
      "1\n",
      "2\n"
     ]
    }
   ],
   "source": [
    "k = [1,8,2,0,1,3,2]\n",
    "\n",
    "from collections import Counter\n",
    "g = dict(Counter(k))\n",
    "for i,j in g.items():\n",
    "    if j > 1:\n",
    "        print(i)"
   ]
  },
  {
   "cell_type": "code",
   "execution_count": 61,
   "id": "233ca6cb-6c28-4f60-8c9f-225930df19dc",
   "metadata": {},
   "outputs": [
    {
     "name": "stdout",
     "output_type": "stream",
     "text": [
      "1\n",
      "2\n"
     ]
    }
   ],
   "source": [
    "#without counter function\n",
    "k = [1,8,2,0,1,3,2]\n",
    "g = {}\n",
    "for i in k:\n",
    "    if i in g.keys():\n",
    "        print(i)\n",
    "        g[i] += 1\n",
    "    else:\n",
    "        g[i] = 1"
   ]
  },
  {
   "cell_type": "markdown",
   "id": "6d5a6ef9-52bf-4865-b024-1237654b2472",
   "metadata": {},
   "source": [
    "### Fibonacci Sequence up to N terms"
   ]
  },
  {
   "cell_type": "code",
   "execution_count": 66,
   "id": "ab0ee815-4dc7-476b-b4a6-9a11871f245f",
   "metadata": {},
   "outputs": [
    {
     "name": "stdout",
     "output_type": "stream",
     "text": [
      "1\n",
      "1\n",
      "2\n",
      "3\n",
      "5\n",
      "8\n",
      "13\n",
      "21\n",
      "34\n",
      "55\n"
     ]
    }
   ],
   "source": [
    "a = 0\n",
    "b = 1\n",
    "n = 10\n",
    "for i in range(n):\n",
    "    a, b = b, a+b\n",
    "    print(a)"
   ]
  },
  {
   "cell_type": "markdown",
   "id": "02fcd746-1c7a-4796-aed9-0264aa542d23",
   "metadata": {},
   "source": [
    "### Find Prime number"
   ]
  },
  {
   "cell_type": "code",
   "execution_count": 72,
   "id": "3615b916-2f2f-4ff6-97ce-e3a1b9bfa4ac",
   "metadata": {},
   "outputs": [
    {
     "data": {
      "text/plain": [
       "True"
      ]
     },
     "execution_count": 72,
     "metadata": {},
     "output_type": "execute_result"
    }
   ],
   "source": [
    "def is_prime(n):\n",
    "    if n <= 1:\n",
    "        return False\n",
    "    for i in range(2, int(n**0.5) + 1):\n",
    "        if n % i == 0:\n",
    "            return False\n",
    "    return True\n",
    "is_prime(7)"
   ]
  },
  {
   "cell_type": "markdown",
   "id": "43f2fff6-4d43-4243-86d0-a50269f0a37e",
   "metadata": {},
   "source": [
    "### Column-to-row transformation"
   ]
  },
  {
   "cell_type": "code",
   "execution_count": 81,
   "id": "966fcd41-4d7f-4e14-885b-68a6368786c5",
   "metadata": {},
   "outputs": [
    {
     "data": {
      "text/plain": [
       "[{'fruits': 'apple', 'color': 'red', 'price': 1},\n",
       " {'fruits': 'banana', 'color': 'yellow', 'price': 2},\n",
       " {'fruits': 'orange', 'color': 'orange', 'price': 0.5}]"
      ]
     },
     "execution_count": 81,
     "metadata": {},
     "output_type": "execute_result"
    }
   ],
   "source": [
    "Input = {\n",
    "    'fruits': ['apple', 'banana', 'orange'],\n",
    "    'color': ['red', 'yellow', 'orange'],\n",
    "    'price': [1,2,0.5]\n",
    "}\n",
    "length = min(len(v) for v in Input.values())\n",
    "output = []\n",
    "for i in range(length):\n",
    "    dic = {}\n",
    "    for j in Input:\n",
    "        dic[j] = Input[j][i]\n",
    "    output.append(dic)\n",
    "    \n",
    "# output = [{k: Input[j][i] for j in Input} for i in range(length)]\n",
    "\n",
    "output"
   ]
  },
  {
   "cell_type": "markdown",
   "id": "bad1c1b8-12a3-4311-938d-6590f3930952",
   "metadata": {},
   "source": [
    "### Factorial Problem"
   ]
  },
  {
   "cell_type": "code",
   "execution_count": 84,
   "id": "a3bdaeaf-ae57-449e-b216-719a2ab46027",
   "metadata": {},
   "outputs": [
    {
     "data": {
      "text/plain": [
       "120"
      ]
     },
     "execution_count": 84,
     "metadata": {},
     "output_type": "execute_result"
    }
   ],
   "source": [
    "def factorial_recursive(n):\n",
    "    if n == 0 or n == 1:\n",
    "        return 1\n",
    "    return n * factorial_recursive(n - 1)\n",
    "factorial_recursive(5)"
   ]
  },
  {
   "cell_type": "markdown",
   "id": "6597d8cc-49c0-43d6-9edd-f36d8ab0d0ff",
   "metadata": {},
   "source": [
    "### Interleave two lists"
   ]
  },
  {
   "cell_type": "code",
   "execution_count": 87,
   "id": "6bf4530b-00e2-4da5-a67f-75d423618f75",
   "metadata": {},
   "outputs": [
    {
     "data": {
      "text/plain": [
       "[1, 7, 2, 8, 3, 9, 4, 10, 5, 11, 6]"
      ]
     },
     "execution_count": 87,
     "metadata": {},
     "output_type": "execute_result"
    }
   ],
   "source": [
    "lst1=[1,2,3,4,5,6]\n",
    "lst2=[7,8,9,10,11]\n",
    "output = []\n",
    "for a, b in zip(lst1, lst2):\n",
    "    output.extend([a, b])\n",
    "# Add remaining elements if lists are unequal in length\n",
    "longer = lst1[len(lst2):] if len(lst1) > len(lst2) else lst2[len(lst1):]\n",
    "output.extend(longer)\n",
    "output"
   ]
  },
  {
   "cell_type": "markdown",
   "id": "c1053205-42cc-4466-b687-ec8217dae831",
   "metadata": {},
   "source": [
    "### Given an array of integers, and two integers, target and k, return k number of integers that are closest to the target value. \n",
    "### The integers in the output array should be in sorted order.\n",
    " \n",
    "### Input: \n",
    "### [1, 2, 3, 4, 5], k = 4, target = 3\n",
    "### Output: \n",
    "### [1, 2, 3, 4]"
   ]
  },
  {
   "cell_type": "code",
   "execution_count": 13,
   "id": "58feda96-f65f-47b6-b12b-86781cbcdbb2",
   "metadata": {},
   "outputs": [
    {
     "name": "stdout",
     "output_type": "stream",
     "text": [
      "[-2, -1, 0, 1, 2]\n"
     ]
    },
    {
     "data": {
      "text/plain": [
       "[1, 2, 3, 4]"
      ]
     },
     "execution_count": 13,
     "metadata": {},
     "output_type": "execute_result"
    }
   ],
   "source": [
    "inpu = [1, 2, 3, 4, 5] \n",
    "k = 4\n",
    "target = 3\n",
    "\n",
    "output = []\n",
    "a = []\n",
    "\n",
    "for i in inpu:\n",
    "    a.append(i-target)\n",
    "\n",
    "for i in inpu:\n",
    "    if i-target in sorted(a)[:k]:\n",
    "        output.append(i)\n",
    "print(a)\n",
    "output"
   ]
  },
  {
   "cell_type": "code",
   "execution_count": null,
   "id": "498b8552-0909-4dac-b99f-3d6dfe837a85",
   "metadata": {},
   "outputs": [],
   "source": []
  }
 ],
 "metadata": {
  "kernelspec": {
   "display_name": "Python 3 (ipykernel)",
   "language": "python",
   "name": "python3"
  },
  "language_info": {
   "codemirror_mode": {
    "name": "ipython",
    "version": 3
   },
   "file_extension": ".py",
   "mimetype": "text/x-python",
   "name": "python",
   "nbconvert_exporter": "python",
   "pygments_lexer": "ipython3",
   "version": "3.10.0"
  }
 },
 "nbformat": 4,
 "nbformat_minor": 5
}
