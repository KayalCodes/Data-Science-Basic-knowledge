{
 "cells": [
  {
   "cell_type": "raw",
   "id": "2840e365-8ba7-4ece-bb29-09f63f6b9e28",
   "metadata": {},
   "source": [
    "One-Hot Encoding:\n",
    "\n",
    "Description:\n",
    "One-hot encoding converts categorical variables into a set of binary vectors. Each category is represented by a vector of length equal to the number of unique categories, where the position corresponding to the category is set to 1, and all other positions are set to 0.\n",
    "\n",
    "Example:\n",
    "Consider a categorical variable \"Color\" with three categories: \"Red\", \"Green\", and \"Blue\".\n",
    "\n",
    "Color\tOne-Hot Encoding\n",
    "Red\t[1, 0, 0]\n",
    "Green\t[0, 1, 0]\n",
    "Blue\t[0, 0, 1]\n",
    "Advantages:\n",
    "\n",
    "No ordinal relationship: One-hot encoding does not imply any order or hierarchy between categories, making it suitable for nominal categorical data.\n",
    "Compatibility: Most machine learning algorithms handle binary vectors effectively.\n",
    "Disadvantages:\n",
    "\n",
    "High dimensionality: One-hot encoding can create many new features, especially when the categorical variable has many unique categories, leading to increased memory usage and computational cost."
   ]
  },
  {
   "cell_type": "code",
   "execution_count": 4,
   "id": "69264736-c848-47c2-9559-33265759e193",
   "metadata": {},
   "outputs": [
    {
     "name": "stdout",
     "output_type": "stream",
     "text": [
      "   Color_Blue  Color_Green  Color_Red\n",
      "0         0.0          0.0        1.0\n",
      "1         0.0          1.0        0.0\n",
      "2         1.0          0.0        0.0\n",
      "3         0.0          1.0        0.0\n",
      "4         0.0          0.0        1.0\n"
     ]
    }
   ],
   "source": [
    "import pandas as pd\n",
    "from sklearn.preprocessing import OneHotEncoder\n",
    "\n",
    "# Sample data\n",
    "data = {'Color': ['Red', 'Green', 'Blue', 'Green', 'Red']}\n",
    "df = pd.DataFrame(data)\n",
    "\n",
    "# One-Hot Encoding\n",
    "encoder = OneHotEncoder(sparse_output=False)\n",
    "one_hot_encoded = encoder.fit_transform(df[['Color']])\n",
    "\n",
    "# Create a DataFrame with one-hot encoded columns\n",
    "one_hot_df = pd.DataFrame(one_hot_encoded, columns=encoder.get_feature_names_out(['Color']))\n",
    "print(one_hot_df)"
   ]
  },
  {
   "cell_type": "raw",
   "id": "8a6d8c80-826e-4343-a75b-9bef0283329c",
   "metadata": {},
   "source": [
    "Label Encoding\n",
    "\n",
    "Description:\n",
    "Label encoding converts each category in a categorical variable into a unique integer label. Each category is assigned a distinct integer value.\n",
    "\n",
    "Example:\n",
    "Using the same \"Color\" variable:\n",
    "\n",
    "Color\tLabel Encoding\n",
    "Red\t    0\n",
    "Green\t1\n",
    "Blue\t2\n",
    "Advantages:\n",
    "\n",
    "Low dimensionality: Label encoding results in a single column of integer values, keeping the dataset compact.\n",
    "Simple to implement: It’s straightforward to apply and often requires less preprocessing.\n",
    "Disadvantages:\n",
    "\n",
    "Implicit ordinal relationship: Label encoding may inadvertently imply an ordinal relationship between categories (e.g., \"Red\" < \"Green\" < \"Blue\"), which may not be appropriate for nominal data.\n",
    "Not suitable for nominal data: If the categories have no natural order, using label encoding can mislead some machine learning algorithms into assuming a nonexistent hierarchy."
   ]
  },
  {
   "cell_type": "code",
   "execution_count": 5,
   "id": "78365c9d-645d-4fce-a72f-569509187101",
   "metadata": {},
   "outputs": [
    {
     "name": "stdout",
     "output_type": "stream",
     "text": [
      "   Color  Color_Label\n",
      "0    Red            2\n",
      "1  Green            1\n",
      "2   Blue            0\n",
      "3  Green            1\n",
      "4    Red            2\n"
     ]
    }
   ],
   "source": [
    "from sklearn.preprocessing import LabelEncoder\n",
    "\n",
    "# Sample data\n",
    "data = {'Color': ['Red', 'Green', 'Blue', 'Green', 'Red']}\n",
    "df = pd.DataFrame(data)\n",
    "\n",
    "# Label Encoding\n",
    "label_encoder = LabelEncoder()\n",
    "df['Color_Label'] = label_encoder.fit_transform(df['Color'])\n",
    "\n",
    "print(df)"
   ]
  },
  {
   "cell_type": "raw",
   "id": "5c27344c-74f9-4bbf-bdd4-a21d17f28efc",
   "metadata": {},
   "source": [
    "Ordinal Encoding\n",
    "Description:\n",
    "Ordinal encoding assigns a unique integer to each category. This is useful for ordinal data where the categories have a meaningful order.\n",
    "\n",
    "Example:\n",
    "Consider a variable \"Size\" with three categories: \"Small\", \"Medium\", \"Large\".\n",
    "\n",
    "Size\tOrdinal Encoding\n",
    "Small\t0\n",
    "Medium\t1\n",
    "Large\t2\n",
    "Advantages:\n",
    "\n",
    "Simple and memory-efficient: Uses a single column of integers.\n",
    "Maintains order: Useful for ordinal data where the order matters.\n",
    "Disadvantages:\n",
    "\n",
    "Implicit ordinal relationship: Implies an order, which may not be suitable for nominal data."
   ]
  },
  {
   "cell_type": "code",
   "execution_count": 6,
   "id": "0a8e81fe-745f-46f6-b7bb-94129b6cc445",
   "metadata": {},
   "outputs": [
    {
     "name": "stdout",
     "output_type": "stream",
     "text": [
      "     Size  Size_Ordinal\n",
      "0   Small           2.0\n",
      "1  Medium           1.0\n",
      "2   Large           0.0\n",
      "3  Medium           1.0\n",
      "4   Small           2.0\n"
     ]
    }
   ],
   "source": [
    "from sklearn.preprocessing import OrdinalEncoder\n",
    "\n",
    "# Sample data\n",
    "data = {'Size': ['Small', 'Medium', 'Large', 'Medium', 'Small']}\n",
    "df = pd.DataFrame(data)\n",
    "\n",
    "# Ordinal Encoding\n",
    "ordinal_encoder = OrdinalEncoder()\n",
    "df['Size_Ordinal'] = ordinal_encoder.fit_transform(df[['Size']])\n",
    "\n",
    "print(df)"
   ]
  },
  {
   "cell_type": "raw",
   "id": "f7b8fd52-4137-4463-b252-c513e7541774",
   "metadata": {},
   "source": [
    "Frequency Encoding\n",
    "Description:\n",
    "Frequency encoding replaces each category with the frequency (count) of its occurrences.\n",
    "\n",
    "Example:\n",
    "Using a variable \"Color\":\n",
    "\n",
    "Color\tFrequency Encoding\n",
    "Red\t2\n",
    "Green\t2\n",
    "Blue\t1\n",
    "Advantages:\n",
    "\n",
    "Captures category importance: Useful if the frequency of categories is important.\n",
    "Simple to implement: Easy to calculate and apply.\n",
    "Disadvantages:\n",
    "\n",
    "May introduce bias: If frequencies vary significantly, it can skew the model."
   ]
  },
  {
   "cell_type": "code",
   "execution_count": 7,
   "id": "c7f6cb4f-bb31-4f95-b5f6-650c61ed1723",
   "metadata": {},
   "outputs": [
    {
     "name": "stdout",
     "output_type": "stream",
     "text": [
      "   Color  Color_Frequency\n",
      "0    Red                2\n",
      "1  Green                2\n",
      "2   Blue                1\n",
      "3  Green                2\n",
      "4    Red                2\n"
     ]
    }
   ],
   "source": [
    "# Sample data\n",
    "data = {'Color': ['Red', 'Green', 'Blue', 'Green', 'Red']}\n",
    "df = pd.DataFrame(data)\n",
    "\n",
    "# Frequency Encoding\n",
    "frequency_encoding = df['Color'].value_counts()\n",
    "df['Color_Frequency'] = df['Color'].map(frequency_encoding)\n",
    "\n",
    "print(df)"
   ]
  },
  {
   "cell_type": "raw",
   "id": "f33f186d-1af1-4d4f-8050-3c9307544be1",
   "metadata": {},
   "source": [
    "Target Encoding\n",
    "Description:\n",
    "Target encoding replaces each category with the mean of the target variable for that category. This encoding method requires labeled data.\n",
    "\n",
    "Example:\n",
    "Consider a variable \"Color\" with target values:\n",
    "\n",
    "Color\tTarget\tTarget Encoding\n",
    "Red\t1\t1.0\n",
    "Green\t0\t0.5\n",
    "Blue\t0\t0.0\n",
    "Green\t1\t0.5\n",
    "Red\t1\t1.0\n",
    "Advantages:\n",
    "\n",
    "Incorporates target information: Can improve model performance by using target information.\n",
    "Disadvantages:\n",
    "\n",
    "Risk of overfitting: Needs proper regularization to avoid overfitting, especially with small datasets."
   ]
  },
  {
   "cell_type": "code",
   "execution_count": 8,
   "id": "850c5f07-af13-44ca-93f8-ad3a19be9fd4",
   "metadata": {},
   "outputs": [
    {
     "name": "stdout",
     "output_type": "stream",
     "text": [
      "   Color  Target  Color_Target\n",
      "0    Red       1           1.0\n",
      "1  Green       0           0.5\n",
      "2   Blue       0           0.0\n",
      "3  Green       1           0.5\n",
      "4    Red       1           1.0\n"
     ]
    }
   ],
   "source": [
    "# Sample data with target variable\n",
    "data = {'Color': ['Red', 'Green', 'Blue', 'Green', 'Red'], 'Target': [1, 0, 0, 1, 1]}\n",
    "df = pd.DataFrame(data)\n",
    "\n",
    "# Target Encoding\n",
    "target_means = df.groupby('Color')['Target'].mean()\n",
    "df['Color_Target'] = df['Color'].map(target_means)\n",
    "\n",
    "print(df)"
   ]
  },
  {
   "cell_type": "raw",
   "id": "9fdbcab7-0f64-4465-91e9-dbf19b934ad0",
   "metadata": {},
   "source": [
    "Binary Encoding\n",
    "Description:\n",
    "Binary encoding converts categories into binary digits. Each category is first ordinal encoded and then converted into binary.\n",
    "\n",
    "Example:\n",
    "Using a variable \"Color\":\n",
    "\n",
    "Color\tOrdinal Encoding\tBinary Encoding\n",
    "Red\t0\t000\n",
    "Green\t1\t001\n",
    "Blue\t2\t010\n",
    "Yellow\t3\t011\n",
    "Advantages:\n",
    "\n",
    "Reduced dimensionality: More compact than one-hot encoding.\n",
    "Handles high cardinality: Suitable for variables with many categories.\n",
    "Disadvantages:\n",
    "\n",
    "Complexity: Slightly more complex to implement and understand."
   ]
  },
  {
   "cell_type": "code",
   "execution_count": 11,
   "id": "8ce43601-b490-4a73-beec-c45814146c4d",
   "metadata": {},
   "outputs": [
    {
     "name": "stdout",
     "output_type": "stream",
     "text": [
      "   Color_0  Color_1  Color_2\n",
      "0        0        0        1\n",
      "1        0        1        0\n",
      "2        0        1        1\n",
      "3        1        0        0\n"
     ]
    }
   ],
   "source": [
    "from category_encoders import BinaryEncoder\n",
    "\n",
    "# Sample data\n",
    "data = {'Color': ['Red', 'Green', 'Blue', 'Yellow']}\n",
    "df = pd.DataFrame(data)\n",
    "\n",
    "# Binary Encoding\n",
    "binary_encoder = BinaryEncoder()\n",
    "df_binary_encoded = binary_encoder.fit_transform(df['Color'])\n",
    "\n",
    "print(df_binary_encoded)"
   ]
  },
  {
   "cell_type": "raw",
   "id": "c92388f6-8c3e-4bfc-a0ad-d775f2d6cf3f",
   "metadata": {},
   "source": [
    "Hashing Encoding\n",
    "Description:\n",
    "Hashing encoding (or Feature Hashing) uses a hash function to convert categories into numerical features, distributing categories into buckets.\n",
    "\n",
    "Example:\n",
    "Using a variable \"Color\" with hash function producing 2 buckets:\n",
    "\n",
    "Color\tHashing Encoding (bucket 1)\tHashing Encoding (bucket 2)\n",
    "Red\t1\t0\n",
    "Green\t0\t1\n",
    "Blue\t1\t1\n",
    "Yellow\t0\t1\n",
    "Advantages:\n",
    "\n",
    "Scalable: Efficient for high cardinality variables.\n",
    "Fixed number of features: Controlled by the number of hash buckets.\n",
    "Disadvantages:\n",
    "\n",
    "Hash collisions: Different categories may map to the same bucket.\n",
    "No inverse transformation: Cannot revert to original categories."
   ]
  },
  {
   "cell_type": "code",
   "execution_count": 13,
   "id": "7301130e-5796-4c79-a2c5-ab9aeed8e18e",
   "metadata": {},
   "outputs": [
    {
     "name": "stdout",
     "output_type": "stream",
     "text": [
      "   Bucket 1  Bucket 2\n",
      "0       0.0       1.0\n",
      "1       0.0       1.0\n",
      "2      -1.0       0.0\n",
      "3      -1.0       0.0\n"
     ]
    }
   ],
   "source": [
    "import pandas as pd\n",
    "from sklearn.feature_extraction import FeatureHasher\n",
    "\n",
    "# Sample data\n",
    "data = {'Color': ['Red', 'Green', 'Blue', 'Yellow']}\n",
    "df = pd.DataFrame(data)\n",
    "\n",
    "# Hashing Encoding\n",
    "# Convert each category into a list\n",
    "df['Color'] = df['Color'].apply(lambda x: [x])\n",
    "\n",
    "# Initialize the hasher\n",
    "hasher = FeatureHasher(input_type='string', n_features=2)\n",
    "hashed_features = hasher.transform(df['Color'])\n",
    "\n",
    "# Convert hashed features to DataFrame for better visualization\n",
    "hashed_df = pd.DataFrame(hashed_features.toarray(), columns=['Bucket 1', 'Bucket 2'])\n",
    "\n",
    "print(hashed_df)"
   ]
  },
  {
   "cell_type": "code",
   "execution_count": null,
   "id": "596b859b-c866-4b59-a353-b3c4cdd9f933",
   "metadata": {},
   "outputs": [],
   "source": []
  }
 ],
 "metadata": {
  "kernelspec": {
   "display_name": "Python 3 (ipykernel)",
   "language": "python",
   "name": "python3"
  },
  "language_info": {
   "codemirror_mode": {
    "name": "ipython",
    "version": 3
   },
   "file_extension": ".py",
   "mimetype": "text/x-python",
   "name": "python",
   "nbconvert_exporter": "python",
   "pygments_lexer": "ipython3",
   "version": "3.10.0"
  }
 },
 "nbformat": 4,
 "nbformat_minor": 5
}
